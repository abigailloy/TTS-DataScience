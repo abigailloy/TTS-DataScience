{
 "cells": [
  {
   "cell_type": "markdown",
   "metadata": {},
   "source": [
    "Data Science Fundamentals: Python |\n",
    "[Table of Contents](../index.ipynb)\n",
    "- - - \n",
    "<!--NAVIGATION-->\n",
    "Module 8. | [Inheritance & Methods](./01_oop_inheritance.ipynb) | [Sequences, Iterables, Generators Revisited](02_revisited.ipynb) | [Super()](./03_super().ipynb) | **[Exercises](./04_inheritance_methods_exercises.ipynb)** | [Answers](./05_inheritance_methods_answers.ipynb)"
   ]
  },
  {
   "cell_type": "markdown",
   "metadata": {},
   "source": [
    "# Module 8: Practice Exercises"
   ]
  },
  {
   "cell_type": "markdown",
   "metadata": {},
   "source": [
    "## Exercise 1. "
   ]
  },
  {
   "cell_type": "markdown",
   "metadata": {},
   "source": [
    "You are given two classes, Person and Student, where Person is the base class and Student is the derived class. Completed code for Person and a declaration for Student are provided for you in the editor. Observe that Student inherits all the properties of Person.\n",
    "\n",
    "Complete the Student class by writing the following:\n",
    "\n",
    "A Student class constructor, which has 4 parameters:\n",
    "- A string, firstName\n",
    "- A string, lastName\n",
    "- An integer, id\n",
    "An integer array (or vector) of test scores, scores\n",
    "\n",
    "A char **calculate()** method that calculates a Student object's average and returns the grade character representative of their calculated average:\n",
    "```\n",
    "A | 90-100\n",
    "B | 80-89\n",
    "C | 70-79\n",
    "D | 60-69\n",
    "F | <60\n",
    "```"
   ]
  },
  {
   "cell_type": "code",
   "execution_count": 3,
   "metadata": {},
   "outputs": [
    {
     "name": "stdout",
     "output_type": "stream",
     "text": [
      "First name: a\n",
      "Last name: a\n",
      "Student ID: 5\n",
      "Enter a list of grades separated by a space: 25 36 12\n",
      "F\n"
     ]
    }
   ],
   "source": [
    "import statistics\n",
    "\n",
    "\n",
    "class Person: \n",
    "    '''Class that stores the first and last names of humans (probably)'''\n",
    "    \n",
    "    #creates instance of Person class\n",
    "    def __init__(self,fname,lname):\n",
    "        self.fname = fname\n",
    "        self.lname = lname\n",
    "        \n",
    "class Student(Person):\n",
    "    \"\"\"Subclass of Person class, inherits fname and lname parameters from parent class and student_id in addition\"\"\"\n",
    "    \n",
    "    #creates instance of Student class\n",
    "    def __init__(self, fname, lname, student_id):\n",
    "        self.id = int(student_id)\n",
    "        Person.__init__(self, fname, lname)\n",
    "    \n",
    "    def calculate(self,list):\n",
    "        \"\"\"Method of student class, takes list as parameter, calculates and prints the letter grade average\"\"\"\n",
    "        \n",
    "        #grade calculation using mean function from statistics module\n",
    "        avg = statistics.mean(list)\n",
    "        \n",
    "        #if-else statement to print letter grade average based on student's mean grade\n",
    "        if 90 <= avg <= 100:\n",
    "            print(\"A\")\n",
    "        elif 80 <= avg <= 89:\n",
    "            print(\"B\")\n",
    "        elif 70 <= avg <= 79:\n",
    "            print(\"C\")\n",
    "        elif 60 <= avg <= 69:\n",
    "            print(\"D\")\n",
    "        elif avg < 60:\n",
    "            print(\"F\")\n",
    "        \n",
    "#takes first name, last name, and student id from user input and stores it in an object of Student(and subsequently Person) 'person1'     \n",
    "person1 = Student(str(input(\"First name: \")),str(input(\"Last name: \")), int(input(\"Student ID: \")))\n",
    "\n",
    "#takes list of space-seperated integers representing grades from user input\n",
    "grades = input(\"Enter a list of grades separated by a space: \")\n",
    "\n",
    "#puts grades in list 'grades' splitting the grades into seperate items\n",
    "grades = list(map(int, grades.split()))\n",
    "\n",
    "#calls Student method to calculate person1's grade average and prints letter grade representation\n",
    "person1.calculate(grades)"
   ]
  },
  {
   "cell_type": "markdown",
   "metadata": {},
   "source": [
    "- - - \n",
    "<!--NAVIGATION-->\n",
    "Module 8. | [Inheritance & Methods](./01_oop_inheritance.ipynb) | [Sequences, Iterables, Generators Revisited](02_revisited.ipynb) | [Super()](./03_super().ipynb) | **[Exercises](./04_inheritance_methods_exercises.ipynb)** | [Answers](./05_inheritance_methods_answers.ipynb)\n",
    "[Top](#)"
   ]
  },
  {
   "cell_type": "markdown",
   "metadata": {},
   "source": [
    "- - -\n",
    "\n",
    "Copyright © 2020 Qualex Consulting Services Incorporated."
   ]
  }
 ],
 "metadata": {
  "kernelspec": {
   "display_name": "Python 3",
   "language": "python",
   "name": "python3"
  },
  "language_info": {
   "codemirror_mode": {
    "name": "ipython",
    "version": 3
   },
   "file_extension": ".py",
   "mimetype": "text/x-python",
   "name": "python",
   "nbconvert_exporter": "python",
   "pygments_lexer": "ipython3",
   "version": "3.8.8"
  }
 },
 "nbformat": 4,
 "nbformat_minor": 4
}
