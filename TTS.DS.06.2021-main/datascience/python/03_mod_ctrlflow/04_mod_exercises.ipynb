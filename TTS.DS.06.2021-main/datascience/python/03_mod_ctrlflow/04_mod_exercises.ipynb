{
 "cells": [
  {
   "cell_type": "markdown",
   "metadata": {},
   "source": [
    "Data Science Fundamentals: Python |\n",
    "[Table of Contents](../index.ipynb)\n",
    "- - - \n",
    "<!--NAVIGATION-->\n",
    "Module 3. [Control Flow](./01_mod_control_flow.ipynb) | [Statements](./02_python_statements.ipynb) | [Functions](./03_python_functions.ipynb) | **[Exercises](./04_mod_exercises.ipynb)**"
   ]
  },
  {
   "cell_type": "markdown",
   "metadata": {},
   "source": [
    "# Control Flow Exercises"
   ]
  },
  {
   "cell_type": "markdown",
   "metadata": {},
   "source": [
    "### Exercise 1:\n",
    "Guess a number between 1 to 9 given by the user. Hint. [Random](https://docs.python.org/3/library/random.html)"
   ]
  },
  {
   "cell_type": "code",
   "execution_count": null,
   "metadata": {},
   "outputs": [],
   "source": [
    "#imports a random integer generator 'ran'\n",
    "from random import randint as ran\n",
    "\n",
    "#num points to rng(1,9)\n",
    "num = ran(1,9)\n",
    "\n",
    "#guess equals zero until user input is received \n",
    "guess = 0\n",
    "\n",
    "#while for-loop loops through user input until it matches num\n",
    "while num != guess:\n",
    "    guess = int(input(\"Dare to guess a number between 1-10 until you are correct!\"))\n",
    "    \n",
    "    #prints if guess is wrong\n",
    "    print(\"Wow. No. Honestly, you had a 1/10 chance of getting it correct. :( .\")\n",
    "    \n",
    "#prints if guess is right\n",
    "print(\"Success! Your infinite wisdom knows no bounds!\")\n"
   ]
  },
  {
   "cell_type": "markdown",
   "metadata": {},
   "source": [
    "### Exercise 2:\n",
    "Check the validity of password input by the user. Hint. [Re](https://docs.python.org/3/library/re.html) which does matching operations much like Perl.\n",
    "\n",
    "Validation:\n",
    "\n",
    "- At least 1 letter between [a-z] and 1 letter between [A-Z].\n",
    "- At least 1 number between [0-9].\n",
    "- At least 1 character from [$#@].\n",
    "- Minimum length 6 characters.\n",
    "- Maximum length 16 characters."
   ]
  },
  {
   "cell_type": "code",
   "execution_count": null,
   "metadata": {},
   "outputs": [],
   "source": [
    "import re\n",
    "\n",
    "#takes password as user input\n",
    "pwd = input('Please enter a valid password:\\nValid passwords are:\\n\\t6-16 characters in length,\\n\\tContain 1+ numbers,\\n\\t1+ character from [$#@!], and \\n\\tAt least 1 upper and 1 lowercase letter.\\nInput: ')\n",
    "\n",
    "#while for-loop that loops through the user password, checks against requirements,\n",
    "#and breaks out of loop if 'flag' ever equals -1, then prints that password is not valid\n",
    "#prints that password is valid if end of loop is reached, i.e password satisfies all requirements\n",
    "flag = 0\n",
    "while True:  \n",
    "    if (len(pwd)=>6 and len(pwd)=<16 ):\n",
    "        flag = -1\n",
    "        break\n",
    "    elif not re.search(\"[a-z]\", pwd):\n",
    "        flag = -1\n",
    "        break\n",
    "    elif not re.search(\"[A-Z]\", pwd):\n",
    "        flag = -1\n",
    "        break\n",
    "    elif not re.search(\"[0-9]\", pwd):\n",
    "        flag = -1\n",
    "        break\n",
    "    elif not re.search(\"[$#@]\", pwd):\n",
    "        flag = -1\n",
    "        break\n",
    "    elif re.search(\"\\s\", pwd):\n",
    "        flag = -1\n",
    "        break\n",
    "    else:\n",
    "        flag = 0\n",
    "        print(\"Valid Password\")\n",
    "        break\n",
    "if flag ==-1:\n",
    "    print(\"Not Valid\")\n",
    "    "
   ]
  },
  {
   "cell_type": "markdown",
   "metadata": {},
   "source": [
    "### Exercise 3:\n",
    "Get input of the age of 3 people by user and determine oldest and youngest among them"
   ]
  },
  {
   "cell_type": "code",
   "execution_count": null,
   "metadata": {},
   "outputs": [],
   "source": [
    "#gets three integers from user input\n",
    "number1 = int(input(\"Enter First Person's Age : \"))\n",
    "number2 = int(input(\"Enter Second Person's Age : \"))\n",
    "number3 = int(input(\"Enter Third Person's Age : \"))\n",
    "\n",
    "#adds integers to 'ages' list\n",
    "ages = [number1, number2, number3]\n",
    "\n",
    "#sorts ages in descending order\n",
    "ages.sort(reverse=True)\n",
    "\n",
    "\n",
    "#prints sorted ages list\n",
    "print(ages)\n"
   ]
  },
  {
   "cell_type": "markdown",
   "metadata": {},
   "source": [
    "### Exercise 4:\n",
    "A student will not be allowed to sit in exam if his/her attendance is less than 75%.\n",
    "\n",
    "Take following input from user\n",
    "\n",
    "- Number of classes held\n",
    "- Number of classes attended.\n",
    "- And print percentage of class attended\n",
    "- Is student is allowed to sit in exam or not?"
   ]
  },
  {
   "cell_type": "code",
   "execution_count": null,
   "metadata": {},
   "outputs": [],
   "source": [
    "#number of classes held:\n",
    "classesHeld = int(input(\"Please enter the number of classes held: \"))\n",
    "\n",
    "\n",
    "#number of classes attended:\n",
    "classesAttended = int(input(\"Please enter the number of classes attended: \"))\n",
    "\n",
    "#percentage of classes\n",
    "attendance = int((classesAttended / classesHeld)*100)\n",
    "\n",
    "print(\"Attendance: \", attendance, \"%\")\n",
    "\n",
    "#Is student allowed to sit in exam?\n",
    "if attendance < 75:\n",
    "    print(\"Student is not allowed to sit in exam.\")\n",
    "else:\n",
    "    print(\"Student is allowed to sit in exam.\")\n"
   ]
  },
  {
   "cell_type": "markdown",
   "metadata": {},
   "source": [
    "### Exercise 5:\n",
    "Get an integer N from the user and perform the following actions:\n",
    "\n",
    "Find out - \n",
    "- if N is odd, print \"weird\"\n",
    "- if N is even and in the inclusive range of 2 to 5, print \"Not Weird\"\n",
    "- if N is even and in the inclusive range of 6 to 20, print \"Weird\"\n",
    "- if N is even and greater than 20, print \"Not Weird\""
   ]
  },
  {
   "cell_type": "code",
   "execution_count": null,
   "metadata": {},
   "outputs": [],
   "source": [
    "# Given an integer, N, perform the following conditional actions:\n",
    "N = int(input(\"Please enter a single, lonely integer: \"))\n",
    "\n",
    "# If n is odd, print Weird\n",
    "if N % 2 != 0:\n",
    "    print(\"Weird\")\n",
    "    \n",
    "# If n is even and in the inclusive range of 2 to 5, print Not Weird\n",
    "elif N % 2 == 0 and N >= 2 and N <= 5:\n",
    "    print(\"Not Weird\")\n",
    "    \n",
    "# If n is even and in the inclusive range of 6 to 20, print Weird\n",
    "elif N % 2 == 0 and N >= 6 and N <= 20:\n",
    "    print(\"Weird\")\n",
    "    \n",
    "# If n is even and greater than 20, print Not Weird\n",
    "elif N % 2 == 0 and N > 20:\n",
    "    print(\"Not Weird\")\n",
    "           "
   ]
  },
  {
   "cell_type": "markdown",
   "metadata": {},
   "source": [
    "\n",
    "## Extra Points\n",
    "- - -"
   ]
  },
  {
   "cell_type": "markdown",
   "metadata": {},
   "source": [
    "1. ***Optional Exercise (Extra Points)***. Write a Python program to reverse a string."
   ]
  },
  {
   "cell_type": "raw",
   "metadata": {},
   "source": [
    "Sample String : \"1234abcd\"\n",
    "Expected Output : \"dcba4321\""
   ]
  },
  {
   "cell_type": "code",
   "execution_count": null,
   "metadata": {},
   "outputs": [],
   "source": []
  },
  {
   "cell_type": "markdown",
   "metadata": {},
   "source": [
    "2. ***Optional Exercise (Extra Points)***. Write a Python function to multiply all the numbers in a list. "
   ]
  },
  {
   "cell_type": "raw",
   "metadata": {},
   "source": [
    "Sample List : (8, 2, 3, -1, 7)\n",
    "Expected Output : -336"
   ]
  },
  {
   "cell_type": "code",
   "execution_count": null,
   "metadata": {},
   "outputs": [],
   "source": []
  },
  {
   "cell_type": "markdown",
   "metadata": {},
   "source": [
    "3. ***Optional Exercise (Extra Points)***. Write a Python function that accepts a string and calculate the number of upper case letters and lower case letters."
   ]
  },
  {
   "cell_type": "raw",
   "metadata": {},
   "source": [
    "Sample String : 'The quick Brow Fox'\n",
    "Expected Output :\n",
    "No. of Upper case characters : 3\n",
    "No. of Lower case Characters : 12"
   ]
  },
  {
   "cell_type": "code",
   "execution_count": null,
   "metadata": {},
   "outputs": [],
   "source": []
  },
  {
   "cell_type": "markdown",
   "metadata": {},
   "source": [
    "- - -\n",
    "\n",
    "Copyright © 2020 Qualex Consulting Services Incorporated."
   ]
  }
 ],
 "metadata": {
  "kernelspec": {
   "display_name": "Python 3",
   "language": "python",
   "name": "python3"
  },
  "language_info": {
   "codemirror_mode": {
    "name": "ipython",
    "version": 3
   },
   "file_extension": ".py",
   "mimetype": "text/x-python",
   "name": "python",
   "nbconvert_exporter": "python",
   "pygments_lexer": "ipython3",
   "version": "3.8.8"
  }
 },
 "nbformat": 4,
 "nbformat_minor": 4
}
